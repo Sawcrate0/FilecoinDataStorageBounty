{
  "cells": [
    {
      "cell_type": "markdown",
      "metadata": {
        "colab_type": "text",
        "id": "view-in-github"
      },
      "source": [
        "<a href=\"https://colab.research.google.com/github/Drinkler/Yield-Prediction/blob/main/Yield_Prediction.ipynb\" target=\"_parent\"><img src=\"https://colab.research.google.com/assets/colab-badge.svg\" alt=\"Open In Colab\"/></a>"
      ]
    },
    {
      "cell_type": "markdown",
      "metadata": {
        "id": "gICh1IqOCslF"
      },
      "source": [
        "# General"
      ]
    },
    {
      "cell_type": "code",
      "execution_count": 5,
      "metadata": {
        "id": "_5JPwoqvpEg0"
      },
      "outputs": [],
      "source": [
        "# Imports\n",
        "import numpy as np\n",
        "import pandas as pd\n",
        "\n",
        "import sklearn\n",
        "import seaborn as sns\n",
        "import matplotlib.pyplot as plt"
      ]
    },
    {
      "cell_type": "code",
      "execution_count": null,
      "metadata": {
        "id": "i7ilD5PoNpL8"
      },
      "outputs": [],
      "source": [
        "import pandas as pd\n",
        "from scipy.stats import pearsonr\n",
        "\n",
        "# read the CSV file into a DataFrame\n",
        "df = pd.read_csv(\"dataFilecoinVSEnergySeal.csv\")\n",
        "\n",
        "# extract the energy used and crypto price columns from the DataFrame\n",
        "energy_used = df[\"energy_used\"]\n",
        "crypto_price = df[\"filecoin_price\"]\n",
        "\n",
        "# calculate the Pearson correlation coefficient\n",
        "corr, p_value = pearsonr(energy_used, crypto_price)\n",
        "\n",
        "# print the Pearson correlation coefficient and the p-value\n",
        "print(f\"Pearson correlation coefficient: {corr}\")\n",
        "print(f\"p-value: {p_value}\")\n",
        "\n",
        "corr_matrix = df.corr()\n",
        "energy_price_corr = corr_matrix[\"energy_used\"][\"crypto_price\"]\n",
        "print(energy_price_corr)\n"
      ]
    },
    {
      "cell_type": "code",
      "execution_count": null,
      "metadata": {},
      "outputs": [],
      "source": [
        "import pandas as pd\n",
        "from scipy.stats import pearsonr\n",
        "\n",
        "# read the CSV file into a DataFrame\n",
        "df = pd.read_csv(\"dataFilecoinVSEnergySeal.csv\")\n",
        "\n",
        "# extract the energy used and crypto price columns from the DataFrame\n",
        "energy_used = df[\"energy_used\"]\n",
        "filecoin_volume = df[\"filecoin_volume\"]\n",
        "\n",
        "# calculate the Pearson correlation coefficient\n",
        "corr, p_value = pearsonr(energy_used, filecoin_volume)\n",
        "\n",
        "# print the Pearson correlation coefficient and the p-value\n",
        "print(f\"Pearson correlation coefficient: {corr}\")\n",
        "print(f\"p-value: {p_value}\")\n",
        "\n",
        "corr_matrix = df.corr()\n",
        "energy_vol_corr = corr_matrix[\"energy_used\"][\"filecoin_volume\"]\n",
        "print(energy_vol_corr)"
      ]
    }
  ],
  "metadata": {
    "colab": {
      "collapsed_sections": [
        "gICh1IqOCslF",
        "m739eEE20dev",
        "ZWPdFJhwif9X",
        "I_viM345p0qr",
        "bfkBFYYk0id8",
        "Zwt3qFL4uY5w",
        "zLMa9ocB7C9F",
        "j50tyMsyAnTd"
      ],
      "include_colab_link": true,
      "name": "Yield-Prediction.ipynb",
      "provenance": [],
      "toc_visible": true
    },
    "kernelspec": {
      "display_name": "Python 3.9.12 ('base')",
      "language": "python",
      "name": "python3"
    },
    "language_info": {
      "codemirror_mode": {
        "name": "ipython",
        "version": 3
      },
      "file_extension": ".py",
      "mimetype": "text/x-python",
      "name": "python",
      "nbconvert_exporter": "python",
      "pygments_lexer": "ipython3",
      "version": "3.9.12"
    },
    "vscode": {
      "interpreter": {
        "hash": "07878c45a9b18549480ac2f9ecb8f16bb7162456cf654f6757bcff1d6396abe7"
      }
    }
  },
  "nbformat": 4,
  "nbformat_minor": 0
}
